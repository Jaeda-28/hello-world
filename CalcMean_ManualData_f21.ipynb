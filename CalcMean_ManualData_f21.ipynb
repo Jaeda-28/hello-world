{
  "nbformat": 4,
  "nbformat_minor": 0,
  "metadata": {
    "kernelspec": {
      "display_name": "Python 3",
      "language": "python",
      "name": "python3"
    },
    "language_info": {
      "codemirror_mode": {
        "name": "ipython",
        "version": 3
      },
      "file_extension": ".py",
      "mimetype": "text/x-python",
      "name": "python",
      "nbconvert_exporter": "python",
      "pygments_lexer": "ipython3",
      "version": "3.7.3"
    },
    "colab": {
      "name": "CalcMean_ManualData f21.ipynb",
      "provenance": [],
      "collapsed_sections": [],
      "include_colab_link": true
    }
  },
  "cells": [
    {
      "cell_type": "markdown",
      "metadata": {
        "id": "view-in-github",
        "colab_type": "text"
      },
      "source": [
        "<a href=\"https://colab.research.google.com/github/Jaeda-28/hello-world/blob/main/CalcMean_ManualData_f21.ipynb\" target=\"_parent\"><img src=\"https://colab.research.google.com/assets/colab-badge.svg\" alt=\"Open In Colab\"/></a>"
      ]
    },
    {
      "cell_type": "markdown",
      "metadata": {
        "id": "DXkqBGfDyP-a"
      },
      "source": [
        "This is a \"text block\".  A \"notebook\" consists of python programming code and output of the code interspersed with text blocks.  You should change the name of this progam (click on the name) and save it.  Then, you should double-click on this text block and replace this text with your name."
      ]
    },
    {
      "cell_type": "markdown",
      "metadata": {
        "id": "H4d2o7SfJCUG"
      },
      "source": [
        "In order to calculate the average and standard deviation of a set of repeated measurements, you could write code to do the detailed calculations yourself. Another way is to use a *function* that is already written, and you just have to *call* this function. This function is contained in a package called numpy (probably short for numerical python). You must *import* this package since it is not available unless you insert it into your program.\n",
        "\n",
        "You can do this several ways:  \n",
        "\n",
        "1. Use the command: &nbsp; &nbsp; from numpy import * &nbsp; &nbsp;  #This command imports all the functions in the numpy package.\n",
        "2. Use the command: &nbsp; &nbsp; from numpy import mean &nbsp; &nbsp; #This only imports the function to calculate the mean, the one you need.\n",
        "3. Use the command: &nbsp; &nbsp; import numpy as np &nbsp; &nbsp; #This makes numpy available but only imports it as needed, so you must tell the computer when you are using it. To tell the computer when to look in numpy for a function, you must precede the function with the name you gave (np). To call the function mean, you write np.mean.\n",
        "\n",
        "The next block is a \"code block\" that uses the third method.  To run the code block, click on the play button that appears when you hover over the square brackets on the left. You will not see any output when you run this code block, since the availability of numpy functions is done in the background."
      ]
    },
    {
      "cell_type": "code",
      "metadata": {
        "id": "Wd5kY41AJCUI"
      },
      "source": [
        "import numpy as np"
      ],
      "execution_count": null,
      "outputs": []
    },
    {
      "cell_type": "markdown",
      "metadata": {
        "id": "7szlowJm8TKJ"
      },
      "source": [
        "Now you need to make the data available to the program.  Later, you will have data that is in a file, and you will write code to read the contents of the file so that the program can use the data.  For now, you will directly put the data into the program.\n",
        "\n",
        "The second line in the next code block creates a list or array named data, for instance five measurements of the mass of 100 sheets of paper.  The left side of the \"equation\" is the name of a place in memory; the right side of the \"equation\" puts the list of numbers into that place in memory.  The square brackets let python know that this is a list, and commas separate the numbers in the list.\n",
        "\n",
        "Python does not understand units, so you will have to remember them.  The first line starts with a '#', so it is a comment not code run by the computer.  This comment helps you remember what the numbers mean.\n",
        "\n",
        "The third line below uses the numpy function 'mean' to compute the mean of the numbers in data, that we assign to the name average.  In other words, 'average' is now the name of a memory location, and the line puts the result of the calculation on the right side in that memory location.  On the right side, 'data' is in parentheses since that is the name of the list of numbers sent to the function for calculation.  'np.mean' means look in 'numpy' (since np was set to be shorthand for numpy in the first code block) and the '.mean' means look in numpy to find the function 'mean'.\n",
        "\n",
        "The fourth line below prints the values of average, where a string 'the average of the measurements is' is first printed.  'print' is a function that prints whatever is in the parentheses.  In the parentheses, 'average' is without quotation marks, since that is the name of what is printed.  When you want particular text (a 'string') you put that text in quotation marks.  The items to be printed are separate by commas.  \n",
        "\n",
        "Click on the play button to run this code cell; if you have not changed the numbers, it will print 'the average of the measurements is 35.0'."
      ]
    },
    {
      "cell_type": "code",
      "metadata": {
        "id": "ImtbsE4dXKZa"
      },
      "source": [
        "# Replace the numbers in the list variable 'data' with your measurements\n",
        "data = [22,37,33,47,36]\n",
        "average = np.mean(data)\n",
        "print('the average of the measurements is',average)\n"
      ],
      "execution_count": null,
      "outputs": []
    },
    {
      "cell_type": "markdown",
      "metadata": {
        "id": "ZCJ64UNSrSKe"
      },
      "source": [
        "The next code block is to be executed only if the data is the mass of $x$ sheets of paper, and you need to calculate the mass of one sheet.  If the measurements were for 100 sheets, then you must divide by 100.  The first line in the next code block does that calculation.  The calculation is on the right of the '=' and the left side puts the result of that calculation in a place in memory named 'oneSheet'.\n",
        "\n",
        "Change the number 100 to the number of sheets used in your measurement."
      ]
    },
    {
      "cell_type": "code",
      "metadata": {
        "id": "sZHMWDorrI-4"
      },
      "source": [
        "oneSheet = average / 100\n",
        "print('one sheet has mass', oneSheet)"
      ],
      "execution_count": null,
      "outputs": []
    },
    {
      "cell_type": "markdown",
      "metadata": {
        "id": "BCPCuszoJCUm"
      },
      "source": [
        "We also want to calculate the standard deviation. This is given as an Exercise.\n",
        "\n",
        "<ins>Exercise:</ins>  \n",
        "1. Change the second line in the second code cell so that the list contains your data. Then run the code block again.  You can always change a code block and run it again without running the previous code blocks, if the previous code blocks were already executed.\n",
        "2. Change the first line in the last code block to do the calculation for the number of sheets that you used.  Run the block again.\n",
        "2. Change the print statements so each prints the unit of measurement after the number (hint:  string).  Run the blocks again. \n",
        "2. Search the internet for the function name for standard deviation in numpy. Understand the minimal syntax that is needed.\n",
        "2. Write a line of code under the line average=np.mean(data) to calculate the standard deviation.\n",
        "2. Add a line to the last code cell to calculate the standard deviation for one sheet, if this code block were used.\n",
        "3. Add print statements so the standard deviation is printed as well in the second and third cells.\n",
        "4. Run the second and third code cells again.\n",
        "5. To submit your work, first make sure that you put your name in the first text block at the top of this notebook.  Then, in the upper-right of the screen, click on Share and add the email address given to you by your instructor.  In the dropdown box to the right of the email, choose Commenter.  That way, the instructor can comment on your work but not accidentally change it. \n",
        "6. When we quote an average and standard deviation, the last significant digit is the first digit in the standard deviation.  For instance, if the average is 125.66 and the deviation is 2.23, the ones digit is the last significant digit.  Usually we only write a number to the last significant digit, so the mean would be written 126 and the deviation as 2. So, you may not need to display all the digits that the code prints out. You probably need to round the values before or while printing them. Do the following:\n",
        "(a) Look up information on the internet how to round a number in python before printing it, or on how to print a number with a certain number of digits.  There are multiple ways of doing this task. (b) Apply the information to round your printed value of the average and the standard deviation to the appropriate significant digits."
      ]
    }
  ]
}